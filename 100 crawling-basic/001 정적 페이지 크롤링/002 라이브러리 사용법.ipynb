{
 "cells": [
  {
   "cell_type": "code",
   "id": "initial_id",
   "metadata": {
    "collapsed": true,
    "ExecuteTime": {
     "end_time": "2024-06-25T10:05:26.243811Z",
     "start_time": "2024-06-25T10:05:25.633704Z"
    }
   },
   "source": [
    "import requests\n",
    "from bs4 import BeautifulSoup\n",
    "\n",
    "url = \"https://startcoding.pythonanywhere.com/basic\"\n",
    "response = requests.get(url)\n",
    "html = response.text\n",
    "soup = BeautifulSoup(html, 'html.parser')\n",
    "\n",
    "soup.select_one(\".brand-name\")"
   ],
   "outputs": [
    {
     "data": {
      "text/plain": [
       "<a class=\"brand-name\" href=\"https://www.youtube.com/channel/UCHwhZ7HPBhUh2IscPSL0pHA\" target=\"_blank\"><i class=\"fa fa-youtube\"></i>스타트코딩</a>"
      ]
     },
     "execution_count": 3,
     "metadata": {},
     "output_type": "execute_result"
    }
   ],
   "execution_count": 3
  },
  {
   "metadata": {
    "ExecuteTime": {
     "end_time": "2024-06-25T10:20:20.329322Z",
     "start_time": "2024-06-25T10:20:20.323205Z"
    }
   },
   "cell_type": "code",
   "source": "soup.select_one(\".brand-name\").text",
   "id": "297c2293c5441571",
   "outputs": [
    {
     "data": {
      "text/plain": [
       "'스타트코딩'"
      ]
     },
     "execution_count": 5,
     "metadata": {},
     "output_type": "execute_result"
    }
   ],
   "execution_count": 5
  },
  {
   "metadata": {
    "ExecuteTime": {
     "end_time": "2024-06-25T10:21:06.488520Z",
     "start_time": "2024-06-25T10:21:06.480139Z"
    }
   },
   "cell_type": "code",
   "source": "soup.select_one(\".brand-name\").attrs",
   "id": "44603b0712d75b0f",
   "outputs": [
    {
     "data": {
      "text/plain": [
       "{'class': ['brand-name'],\n",
       " 'href': 'https://www.youtube.com/channel/UCHwhZ7HPBhUh2IscPSL0pHA',\n",
       " 'target': '_blank'}"
      ]
     },
     "execution_count": 7,
     "metadata": {},
     "output_type": "execute_result"
    }
   ],
   "execution_count": 7
  },
  {
   "metadata": {
    "ExecuteTime": {
     "end_time": "2024-06-25T10:22:09.215765Z",
     "start_time": "2024-06-25T10:22:09.200944Z"
    }
   },
   "cell_type": "code",
   "source": [
    "var1 = soup.select_one(\".brand-name\").attrs['href']\n",
    "var2 = soup.select_one(\".brand-name\").attrs['target']\n",
    "var3 = soup.select_one(\".brand-name\").attrs['class']\n",
    "\n",
    "var3"
   ],
   "id": "87b61df71445dcb2",
   "outputs": [
    {
     "data": {
      "text/plain": [
       "['brand-name']"
      ]
     },
     "execution_count": 15,
     "metadata": {},
     "output_type": "execute_result"
    }
   ],
   "execution_count": 15
  }
 ],
 "metadata": {
  "kernelspec": {
   "display_name": "Python 3",
   "language": "python",
   "name": "python3"
  },
  "language_info": {
   "codemirror_mode": {
    "name": "ipython",
    "version": 2
   },
   "file_extension": ".py",
   "mimetype": "text/x-python",
   "name": "python",
   "nbconvert_exporter": "python",
   "pygments_lexer": "ipython2",
   "version": "2.7.6"
  }
 },
 "nbformat": 4,
 "nbformat_minor": 5
}
